{
 "cells": [
  {
   "cell_type": "code",
   "execution_count": 1,
   "metadata": {},
   "outputs": [],
   "source": [
    "import yfinance as yf\n",
    "from yahoo_fin.stock_info import get_data\n",
    "import pandas as pd\n",
    "import matplotlib as plt\n",
    "import numpy as np\n"
   ]
  },
  {
   "cell_type": "code",
   "execution_count": 2,
   "metadata": {},
   "outputs": [
    {
     "name": "stderr",
     "output_type": "stream",
     "text": [
      "[*********************100%%**********************]  1 of 1 completed\n",
      "[*********************100%%**********************]  1 of 1 completed\n",
      "[*********************100%%**********************]  1 of 1 completed\n",
      "[*********************100%%**********************]  1 of 1 completed\n",
      "[*********************100%%**********************]  1 of 1 completed"
     ]
    },
    {
     "name": "stdout",
     "output_type": "stream",
     "text": [
      "                AMZN      NVDA      MSFT      AAPL     GOOGL\n",
      "Date                                                        \n",
      "2013-01-03  0.004547  0.000786 -0.013396 -0.012622  0.000581\n",
      "2013-01-04  0.002592  0.032993 -0.018716 -0.027855  0.019760\n",
      "2013-01-07  0.035925 -0.028897 -0.001870 -0.005882 -0.004363\n",
      "2013-01-08 -0.007748 -0.021926 -0.005245  0.002691 -0.001973\n",
      "2013-01-09 -0.000113 -0.022418  0.005650 -0.015629  0.006573\n",
      "\n",
      "Annualized Volatility:\n",
      "AMZN     0.327251\n",
      "NVDA     0.447809\n",
      "MSFT     0.269462\n",
      "AAPL     0.284673\n",
      "GOOGL    0.273986\n",
      "dtype: float64\n"
     ]
    },
    {
     "name": "stderr",
     "output_type": "stream",
     "text": [
      "\n",
      "C:\\Users\\ebehnia\\AppData\\Local\\Temp\\ipykernel_24660\\149483308.py:18: FutureWarning: DataFrame.fillna with 'method' is deprecated and will raise in a future version. Use obj.ffill() or obj.bfill() instead.\n",
      "  combined_data.fillna(method='ffill', inplace=True)\n",
      "C:\\Users\\ebehnia\\AppData\\Local\\Temp\\ipykernel_24660\\149483308.py:19: FutureWarning: DataFrame.fillna with 'method' is deprecated and will raise in a future version. Use obj.ffill() or obj.bfill() instead.\n",
      "  combined_data.fillna(method='bfill', inplace=True)\n"
     ]
    }
   ],
   "source": [
    "\n",
    "\n",
    "# Downloading  the top 5 companies stock data\n",
    "amazon_data = yf.download(\"AMZN\", start=\"2013-01-01\", end=\"2023-12-04\", interval=\"1d\")\n",
    "nvda_data = yf.download(\"NVDA\", start=\"2013-01-01\", end=\"2023-12-04\", interval=\"1d\")\n",
    "msft_data = yf.download(\"MSFT\", start=\"2013-01-01\", end=\"2023-12-04\", interval=\"1d\")\n",
    "aapl_data = yf.download(\"AAPL\", start=\"2013-01-01\", end=\"2023-12-04\", interval=\"1d\")\n",
    "googl_data = yf.download(\"GOOGL\", start=\"2013-01-01\", end=\"2023-12-04\", interval=\"1d\")\n",
    "\n",
    "# Combining the closing prices into one DataFrame\n",
    "combined_data = pd.DataFrame({\n",
    "    'AMZN': amazon_data['Close'],\n",
    "    'NVDA': nvda_data['Close'],\n",
    "    'MSFT': msft_data['Close'],\n",
    "    'AAPL': aapl_data['Close'],\n",
    "    'GOOGL': googl_data['Close']\n",
    "})\n",
    "\n",
    "# Cleaning the data by forward-filling NaN values, then backfill to catch any leading NaNs\n",
    "combined_data.fillna(method='ffill', inplace=True)\n",
    "combined_data.fillna(method='bfill', inplace=True)\n",
    "\n",
    "# Calculating the daily returns as the percentage change in the closing price\n",
    "daily_returns = combined_data.pct_change()\n",
    "\n",
    "# Ensuring that no NaN values remain \n",
    "daily_returns.dropna(inplace=True)\n",
    "\n",
    "# This is the combined and cleaned dataset that's ready for Comparative Volatility Analysis\n",
    "print(daily_returns.head())  # Display the first few rows to check the data\n",
    "\n",
    "#  Calculating and displaying the annualized volatility for a quick look to see if furthur analysis can be done\n",
    "annual_volatility = daily_returns.std() * np.sqrt(252)\n",
    "print(\"\\nAnnualized Volatility:\")\n",
    "print(annual_volatility)\n"
   ]
  },
  {
   "cell_type": "markdown",
   "metadata": {},
   "source": [
    "# Beta (β)\n",
    "Beta measures a stock's volatility relative to the overall market or a specific benchmark (like the S&P 500). A beta greater than 1 indicates that the stock is more volatile than the market, while a beta less than 1 means it's less volatile.\n"
   ]
  },
  {
   "cell_type": "code",
   "execution_count": 4,
   "metadata": {},
   "outputs": [
    {
     "name": "stderr",
     "output_type": "stream",
     "text": [
      "[*********************100%%**********************]  6 of 6 completed"
     ]
    },
    {
     "name": "stdout",
     "output_type": "stream",
     "text": [
      "Beta values relative to S&P 500:\n",
      "Ticker\n",
      "AMZN     1.164301\n",
      "NVDA     1.656721\n",
      "MSFT     1.205972\n",
      "AAPL     1.183231\n",
      "GOOGL    1.156353\n",
      "Name: SPY, dtype: float64\n"
     ]
    },
    {
     "name": "stderr",
     "output_type": "stream",
     "text": [
      "\n"
     ]
    }
   ],
   "source": [
    "# Defining the tickers for the stocks and the S&P 500 index\n",
    "tickers = ['AMZN', 'NVDA', 'MSFT', 'AAPL', 'GOOGL', 'SPY']\n",
    "\n",
    "# Downloading the historical price data\n",
    "data = yf.download(tickers, start=\"2013-01-01\", end=\"2023-12-04\", interval=\"1d\")['Adj Close']\n",
    "\n",
    "# Calculating the daily returns\n",
    "daily_returns = data.pct_change()\n",
    "\n",
    "# Calculating the covariance of each stock with the S&P 500\n",
    "covariance = daily_returns.cov().loc[tickers[:-1], 'SPY']\n",
    "\n",
    "# Calculating the variance of the S&P 500\n",
    "variance = daily_returns['SPY'].var()\n",
    "\n",
    "# Calculating beta for each stock\n",
    "beta = covariance / variance\n",
    "\n",
    "print(\"Beta values relative to S&P 500:\")\n",
    "print(beta)"
   ]
  },
  {
   "cell_type": "markdown",
   "metadata": {},
   "source": [
    "# Analysis \n",
    "\n",
    "Amazon (AMZN) - Beta: 1.1643\n",
    "Amazon's beta value suggests that its stock is slightly more volatile than the market. A movement in the S&P 500 is expected to lead to a slightly larger movement in Amazon's stock price, making it somewhat riskier than an average stock in the index.\n",
    "\n",
    "Nvidia (NVDA) - Beta: 1.6567\n",
    "Nvidia's beta is significantly higher than 1, indicating that its stock is much more volatile than the market. This suggests that Nvidia's stock price is likely to experience larger fluctuations in response to market movements, which could imply higher risk but also the potential for higher returns.\n",
    "\n",
    "Microsoft (MSFT) - Beta: 1.2060\n",
    "Microsoft's beta value is also above 1, indicating that its stock is more volatile than the market but to a lesser extent than Nvidia. This means Microsoft's stock price may move more than the market average in response to market changes, offering a mix of additional risk and potential return.\n",
    "\n",
    "Apple (AAPL) - Beta: 1.1832\n",
    "Apple's beta value is similar to Microsoft's and Amazon's, showing that its stock is more volatile than the market but not excessively so. Apple's stock movements are likely to be somewhat more pronounced than the market's, reflecting a moderate level of risk relative to the S&P 500.\n",
    "\n",
    "Alphabet (GOOGL) - Beta: 1.1564\n",
    "Alphabet's beta value is slightly above 1, similar to Amazon's, indicating that its stock has a slightly higher volatility than the market. This suggests Alphabet's stock price may react somewhat more to market movements, posing a slightly higher risk compared to an average market stock."
   ]
  },
  {
   "cell_type": "code",
   "execution_count": 2,
   "metadata": {},
   "outputs": [
    {
     "data": {
      "image/png": "[encoded data removed]",
      "text/plain": [
       "<Figure size 1000x600 with 1 Axes>"
      ]
     },
     "metadata": {},
     "output_type": "display_data"
    }
   ],
   "source": [
    "import matplotlib.pyplot as plt\n",
    "\n",
    "# Beta values from your previous results\n",
    "beta_values = {\n",
    "    'AMZN': 1.164301,\n",
    "    'NVDA': 1.656721,\n",
    "    'MSFT': 1.205972,\n",
    "    'AAPL': 1.183231,\n",
    "    'GOOGL': 1.156353\n",
    "}\n",
    "\n",
    "# Names of the companies (for the x-axis)\n",
    "companies = list(beta_values.keys())\n",
    "\n",
    "# Corresponding beta values (for the y-axis)\n",
    "betas = list(beta_values.values())\n",
    "\n",
    "# Creating the bar chart\n",
    "plt.figure(figsize=(10, 6))  # Set the figure size\n",
    "plt.bar(companies, betas, color=['blue', 'green', 'red', 'purple', 'orange'])\n",
    "\n",
    "# Displaying the title and labels\n",
    "plt.title('Beta Volatility Comparison Among Top Tech Companies')\n",
    "plt.xlabel('Company')\n",
    "plt.ylabel('Beta Value')\n",
    "\n",
    "\n",
    "plt.show()\n"
   ]
  },
  {
   "cell_type": "markdown",
   "metadata": {},
   "source": [
    "# Value at Risk (VaR)\n",
    "VaR is a statistical measure used to assess the risk level of an investment portfolio. It estimates how much a set of investments might lose, given normal market conditions, in a set time period such as a day.\n",
    "\n"
   ]
  },
  {
   "cell_type": "code",
   "execution_count": 3,
   "metadata": {},
   "outputs": [
    {
     "name": "stderr",
     "output_type": "stream",
     "text": [
      "[*********************100%%**********************]  5 of 5 completed"
     ]
    },
    {
     "name": "stdout",
     "output_type": "stream",
     "text": [
      "95% Value at Risk (VaR) for each stock:\n",
      "Ticker\n",
      "AAPL     0.026661\n",
      "AMZN     0.030576\n",
      "GOOGL    0.025378\n",
      "MSFT     0.025683\n",
      "NVDA     0.040815\n",
      "Name: 0.05, dtype: float64\n"
     ]
    },
    {
     "name": "stderr",
     "output_type": "stream",
     "text": [
      "\n"
     ]
    }
   ],
   "source": [
    "\n",
    "\n",
    "# Downloading the historical stock data\n",
    "tickers = ['AMZN', 'NVDA', 'MSFT', 'AAPL', 'GOOGL']\n",
    "data = yf.download(tickers, start=\"2013-01-01\", end=\"2023-12-04\", interval=\"1d\")['Adj Close']\n",
    "\n",
    "# Calculate daily returns\n",
    "daily_returns = data.pct_change()\n",
    "\n",
    "# Calculate the 95% VaR using the Historical Method\n",
    "VaR_95 = daily_returns.quantile(0.05)\n",
    "\n",
    "# Convert VaR to positive values for conventional representation\n",
    "VaR_95 = -VaR_95\n",
    "\n",
    "print(\"95% Value at Risk (VaR) for each stock:\")\n",
    "print(VaR_95)"
   ]
  },
  {
   "cell_type": "markdown",
   "metadata": {},
   "source": [
    "# Analysis: \n",
    "\n",
    "Apple (AAPL) - VaR: 2.67%\n",
    "This indicates that, based on historical data, there's a 95% chance that Apple's stock will not lose more than 2.67% of its value in a single day. This relatively low VaR suggests that Apple's stock is comparatively less risky among the stocks analyzed.\n",
    "\n",
    "Amazon (AMZN) - VaR: 3.06%\n",
    "Amazon's VaR is slightly higher than Apple's, indicating a slightly higher potential for daily loss. With a 95% confidence level, Amazon's stock could see a maximum daily loss of 3.06%, reflecting its somewhat higher volatility compared to Apple.\n",
    "\n",
    "Alphabet (GOOGL) - VaR: 2.54%\n",
    "Alphabet has the lowest VaR among the five stocks, suggesting it has the smallest expected daily loss at the 95% confidence level, with a maximum loss of 2.54%. This lower VaR points to Alphabet being the least risky in terms of daily price movements based on historical data.\n",
    "\n",
    "Microsoft (MSFT) - VaR: 2.57%\n",
    "Microsoft's VaR is very close to Alphabet's, indicating a low potential daily loss similar to Alphabet's. With a 95% confidence level, Microsoft's stock could experience a maximum daily loss of 2.57%, making it one of the less risky stocks among those analyzed.\n",
    "\n",
    "Nvidia (NVDA) - VaR: 4.08%\n",
    "Nvidia shows the highest VaR at 4.08%, suggesting that it has the highest potential for daily loss among the stocks. This higher VaR reflects Nvidia's relatively higher volatility and indicates that, with a 95% confidence level, Nvidia's stock could lose up to 4.08% of its value in a single day.\n",
    "\n",
    "This VaR values provides a quantified risk assessment for potential losses, with Nvidia (NVDA) appearing as the most volatile or risky investment in terms of daily price movements. This could be due to its business model, market position, or sector-specific risks that lead to larger price swings.\n",
    "Alphabet (GOOGL) and Microsoft (MSFT) show the lowest VaR, suggesting they are the least risky among these tech giants based on historical price movements. This might reflect their stable business operations, diversified revenue streams, or effective risk management strategies.\n",
    "Apple (AAPL) and Amazon (AMZN) fall in the middle, with Amazon showing slightly higher potential for daily losses than Apple. This positions them as moderately volatile compared to the other stocks analyzed.\n"
   ]
  }
 ],
 "metadata": {
  "kernelspec": {
   "display_name": "base",
   "language": "python",
   "name": "python3"
  },
  "language_info": {
   "codemirror_mode": {
    "name": "ipython",
    "version": 3
   },
   "file_extension": ".py",
   "mimetype": "text/x-python",
   "name": "python",
   "nbconvert_exporter": "python",
   "pygments_lexer": "ipython3",
   "version": "3.11.5"
  }
 },
 "nbformat": 4,
 "nbformat_minor": 2
}
